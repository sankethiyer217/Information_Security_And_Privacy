{
  "nbformat": 4,
  "nbformat_minor": 0,
  "metadata": {
    "colab": {
      "provenance": []
    },
    "kernelspec": {
      "name": "python3",
      "display_name": "Python 3"
    },
    "language_info": {
      "name": "python"
    }
  },
  "cells": [
    {
      "cell_type": "code",
      "execution_count": 1,
      "metadata": {
        "id": "cqNZ3JwiD_mY"
      },
      "outputs": [],
      "source": [
        "import random"
      ]
    },
    {
      "cell_type": "code",
      "source": [
        "class Generator:\n",
        "    def __init__(self,G,P):\n",
        "        self.G_param = G\n",
        "        self.P_param = P\n",
        "\n",
        "    def gen_privkey(self):\n",
        "        self.pk = random.randrange(start = 100,stop = 1000,step = 1)\n",
        "\n",
        "    def gen_pubkey(self):\n",
        "        self.pub_key = pow(self.G_param,self.pk) % self.P_param\n",
        "\n",
        "    def exchange_key(self,other_public):\n",
        "        self.share_key = pow(other_public,self.pk) % self.P_param"
      ],
      "metadata": {
        "id": "siH2S-ndEEAs"
      },
      "execution_count": 2,
      "outputs": []
    },
    {
      "cell_type": "code",
      "source": [
        "Alice = Generator(5,73)\n",
        "Bob = Generator(5,73)"
      ],
      "metadata": {
        "id": "wEHUaQAlEQ1z"
      },
      "execution_count": 3,
      "outputs": []
    },
    {
      "cell_type": "code",
      "source": [
        "Alice.gen_privkey()\n",
        "Bob.gen_privkey()"
      ],
      "metadata": {
        "id": "lpJDDRzCEWkK"
      },
      "execution_count": 4,
      "outputs": []
    },
    {
      "cell_type": "code",
      "source": [
        "print(\"Alice Private Key : \",Alice.pk,\"\\n\")"
      ],
      "metadata": {
        "colab": {
          "base_uri": "https://localhost:8080/"
        },
        "id": "HO5i-6dkEagj",
        "outputId": "37a5863d-4111-462e-e57d-5e56af01f5b9"
      },
      "execution_count": 5,
      "outputs": [
        {
          "output_type": "stream",
          "name": "stdout",
          "text": [
            "Alice Private Key :  942 \n",
            "\n"
          ]
        }
      ]
    },
    {
      "cell_type": "code",
      "source": [
        "print(\"Bob Private Key : \",Bob.pk,\"\\n\")"
      ],
      "metadata": {
        "colab": {
          "base_uri": "https://localhost:8080/"
        },
        "id": "iPZn2zpvEksR",
        "outputId": "33928138-6b6f-412e-b240-627309cd577d"
      },
      "execution_count": 6,
      "outputs": [
        {
          "output_type": "stream",
          "name": "stdout",
          "text": [
            "Bob Private Key :  818 \n",
            "\n"
          ]
        }
      ]
    },
    {
      "cell_type": "code",
      "source": [
        "Alice.gen_pubkey()\n",
        "Bob.gen_pubkey()"
      ],
      "metadata": {
        "id": "kZxLM7pbEnXA"
      },
      "execution_count": 7,
      "outputs": []
    },
    {
      "cell_type": "code",
      "source": [
        "print(\"Alice Public Key : \",Alice.pub_key,'\\n')"
      ],
      "metadata": {
        "colab": {
          "base_uri": "https://localhost:8080/"
        },
        "id": "gkl_c5W1Er-c",
        "outputId": "91a06558-4955-425c-91ab-3815ab70055c"
      },
      "execution_count": 8,
      "outputs": [
        {
          "output_type": "stream",
          "name": "stdout",
          "text": [
            "Alice Public Key :  3 \n",
            "\n"
          ]
        }
      ]
    },
    {
      "cell_type": "code",
      "source": [
        "\n",
        "print(\"Bob Public Key :\",Bob.pub_key,'\\n')"
      ],
      "metadata": {
        "colab": {
          "base_uri": "https://localhost:8080/"
        },
        "id": "JALwGK4uEvFY",
        "outputId": "e84f0cb8-e246-4f1c-8496-1a2b46f7d8bc"
      },
      "execution_count": 9,
      "outputs": [
        {
          "output_type": "stream",
          "name": "stdout",
          "text": [
            "Bob Public Key : 54 \n",
            "\n"
          ]
        }
      ]
    },
    {
      "cell_type": "code",
      "source": [
        "Alice.exchange_key(Bob.pub_key)\n",
        "Bob.exchange_key(Alice.pub_key)"
      ],
      "metadata": {
        "id": "81wXX9PbExBL"
      },
      "execution_count": 10,
      "outputs": []
    },
    {
      "cell_type": "code",
      "source": [
        "print(\"Shared Key(Alice) : \",Alice.share_key)"
      ],
      "metadata": {
        "colab": {
          "base_uri": "https://localhost:8080/"
        },
        "id": "a0znBom8Ez__",
        "outputId": "4b386be1-4f04-4fd6-c218-d63e54d52c6c"
      },
      "execution_count": 11,
      "outputs": [
        {
          "output_type": "stream",
          "name": "stdout",
          "text": [
            "Shared Key(Alice) :  9\n"
          ]
        }
      ]
    },
    {
      "cell_type": "code",
      "source": [
        "\n",
        "print(\"Shared Key(Bob) : \",Bob.share_key,'\\n')"
      ],
      "metadata": {
        "colab": {
          "base_uri": "https://localhost:8080/"
        },
        "id": "jTqQeTy-E8Jx",
        "outputId": "12145b67-d653-44a1-8ac6-7962fbf5c2c2"
      },
      "execution_count": 12,
      "outputs": [
        {
          "output_type": "stream",
          "name": "stdout",
          "text": [
            "Shared Key(Bob) :  9 \n",
            "\n"
          ]
        }
      ]
    },
    {
      "cell_type": "code",
      "source": [],
      "metadata": {
        "id": "fJcfFmAbFAT1"
      },
      "execution_count": 12,
      "outputs": []
    }
  ]
}