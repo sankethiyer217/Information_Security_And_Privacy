{
  "nbformat": 4,
  "nbformat_minor": 0,
  "metadata": {
    "colab": {
      "provenance": []
    },
    "kernelspec": {
      "name": "python3",
      "display_name": "Python 3"
    },
    "language_info": {
      "name": "python"
    }
  },
  "cells": [
    {
      "cell_type": "code",
      "source": [
        "!pip install base32hex"
      ],
      "metadata": {
        "colab": {
          "base_uri": "https://localhost:8080/"
        },
        "id": "vG6PZd9m7jnT",
        "outputId": "34a7dd9d-0d41-4473-a3dc-485d96786c7b"
      },
      "execution_count": 1,
      "outputs": [
        {
          "output_type": "stream",
          "name": "stdout",
          "text": [
            "Collecting base32hex\n",
            "  Downloading base32hex-1.0.2.tar.gz (2.1 kB)\n",
            "  Preparing metadata (setup.py) ... \u001b[?25l\u001b[?25hdone\n",
            "Building wheels for collected packages: base32hex\n",
            "  Building wheel for base32hex (setup.py) ... \u001b[?25l\u001b[?25hdone\n",
            "  Created wheel for base32hex: filename=base32hex-1.0.2-py3-none-any.whl size=2255 sha256=374a41e02cc80d81010f1b134e52773bea42b7c0688204e1351dc6fa62aba8cf\n",
            "  Stored in directory: /root/.cache/pip/wheels/8f/74/12/a96d83569138257e602e16a36bb69f2e7380fa7b6fe33f8246\n",
            "Successfully built base32hex\n",
            "Installing collected packages: base32hex\n",
            "Successfully installed base32hex-1.0.2\n"
          ]
        }
      ]
    },
    {
      "cell_type": "code",
      "source": [
        "!pip install pycryptodome"
      ],
      "metadata": {
        "colab": {
          "base_uri": "https://localhost:8080/"
        },
        "id": "h9CmrIOY7jlM",
        "outputId": "776c482b-d7cd-427b-efbd-a03054972469"
      },
      "execution_count": 2,
      "outputs": [
        {
          "output_type": "stream",
          "name": "stdout",
          "text": [
            "Collecting pycryptodome\n",
            "  Downloading pycryptodome-3.18.0-cp35-abi3-manylinux_2_17_x86_64.manylinux2014_x86_64.whl (2.1 MB)\n",
            "\u001b[2K     \u001b[90m━━━━━━━━━━━━━━━━━━━━━━━━━━━━━━━━━━━━━━━━\u001b[0m \u001b[32m2.1/2.1 MB\u001b[0m \u001b[31m7.5 MB/s\u001b[0m eta \u001b[36m0:00:00\u001b[0m\n",
            "\u001b[?25hInstalling collected packages: pycryptodome\n",
            "Successfully installed pycryptodome-3.18.0\n"
          ]
        }
      ]
    },
    {
      "cell_type": "code",
      "execution_count": 3,
      "metadata": {
        "id": "p1thgNut7crU"
      },
      "outputs": [],
      "source": [
        "from Crypto.Cipher import AES\n",
        "from Crypto.Random import get_random_bytes"
      ]
    },
    {
      "cell_type": "code",
      "source": [
        "key = get_random_bytes(16)"
      ],
      "metadata": {
        "id": "UWFV1KDM7e4G"
      },
      "execution_count": 4,
      "outputs": []
    },
    {
      "cell_type": "code",
      "source": [
        "def encrypt(msg):\n",
        "    cipher = AES.new(key, AES.MODE_EAX)\n",
        "    nonce = cipher.nonce\n",
        "    ciphertext, tag = cipher.encrypt_and_digest(msg.encode('ascii'))\n",
        "    return nonce, ciphertext, tag"
      ],
      "metadata": {
        "id": "IZfaG67s7tuv"
      },
      "execution_count": 5,
      "outputs": []
    },
    {
      "cell_type": "code",
      "source": [
        "def decrypt(nonce, ciphertext, tag):\n",
        "    cipher = AES.new(key, AES.MODE_EAX, nonce=nonce)\n",
        "    plaintext = cipher.decrypt(ciphertext)\n",
        "\n",
        "    try:\n",
        "        cipher.verify(tag)\n",
        "        return plaintext.decode('ascii')\n",
        "    except:\n",
        "        return False"
      ],
      "metadata": {
        "id": "xChR3L0B74R4"
      },
      "execution_count": 6,
      "outputs": []
    },
    {
      "cell_type": "code",
      "source": [
        "nonce, ciphertext, tag = encrypt(input('Enter a message: '))\n",
        "plaintext = decrypt(nonce, ciphertext, tag)"
      ],
      "metadata": {
        "colab": {
          "base_uri": "https://localhost:8080/"
        },
        "id": "jN_mBQsL8GWO",
        "outputId": "01728e38-9c16-47fe-cba7-2b22afdbdd0a"
      },
      "execution_count": 7,
      "outputs": [
        {
          "name": "stdout",
          "output_type": "stream",
          "text": [
            "Enter a message: You know a little secret?\n"
          ]
        }
      ]
    },
    {
      "cell_type": "code",
      "source": [
        "print(f'Cipher text: {ciphertext}')"
      ],
      "metadata": {
        "colab": {
          "base_uri": "https://localhost:8080/"
        },
        "id": "KptTuPIx8IPU",
        "outputId": "ac110056-e456-47ad-dc35-538fec93a2cd"
      },
      "execution_count": 8,
      "outputs": [
        {
          "output_type": "stream",
          "name": "stdout",
          "text": [
            "Cipher text: b\"\\xd4\\xb9'\\xce\\x13\\x9f\\xceM\\x913\\xb77\\xe7\\x87x6\\x85g\\\\\\xfd%\\xcb\\xe8%n\"\n"
          ]
        }
      ]
    },
    {
      "cell_type": "code",
      "source": [
        "if not plaintext:\n",
        "    print('Message is corrupted!')\n",
        "else:\n",
        "    print(f'Plain text: {plaintext}')"
      ],
      "metadata": {
        "colab": {
          "base_uri": "https://localhost:8080/"
        },
        "id": "SaPhxm3r8KyQ",
        "outputId": "06c6060b-d7e6-4c2a-a9be-0d2d9d3e66cc"
      },
      "execution_count": 9,
      "outputs": [
        {
          "output_type": "stream",
          "name": "stdout",
          "text": [
            "Plain text: You know a little secret?\n"
          ]
        }
      ]
    },
    {
      "cell_type": "code",
      "source": [],
      "metadata": {
        "id": "XZ7P74D28NJc"
      },
      "execution_count": 9,
      "outputs": []
    }
  ]
}