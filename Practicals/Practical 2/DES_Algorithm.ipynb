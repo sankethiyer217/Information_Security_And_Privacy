{
  "nbformat": 4,
  "nbformat_minor": 0,
  "metadata": {
    "colab": {
      "provenance": []
    },
    "kernelspec": {
      "name": "python3",
      "display_name": "Python 3"
    },
    "language_info": {
      "name": "python"
    }
  },
  "cells": [
    {
      "cell_type": "code",
      "source": [
        "!pip install base32hex"
      ],
      "metadata": {
        "colab": {
          "base_uri": "https://localhost:8080/"
        },
        "id": "5wtjmnZi1pwq",
        "outputId": "8c31546a-a3cf-4ca4-ceec-ef643cf7e0b3"
      },
      "execution_count": 1,
      "outputs": [
        {
          "output_type": "stream",
          "name": "stdout",
          "text": [
            "Collecting base32hex\n",
            "  Downloading base32hex-1.0.2.tar.gz (2.1 kB)\n",
            "  Preparing metadata (setup.py) ... \u001b[?25l\u001b[?25hdone\n",
            "Building wheels for collected packages: base32hex\n",
            "  Building wheel for base32hex (setup.py) ... \u001b[?25l\u001b[?25hdone\n",
            "  Created wheel for base32hex: filename=base32hex-1.0.2-py3-none-any.whl size=2255 sha256=aee4a16075e68d519a6f1fd191e73848b7f6be6f3938c65948d43dd01f2c87fe\n",
            "  Stored in directory: /root/.cache/pip/wheels/8f/74/12/a96d83569138257e602e16a36bb69f2e7380fa7b6fe33f8246\n",
            "Successfully built base32hex\n",
            "Installing collected packages: base32hex\n",
            "Successfully installed base32hex-1.0.2\n"
          ]
        }
      ]
    },
    {
      "cell_type": "code",
      "source": [
        "!pip install pycryptodome"
      ],
      "metadata": {
        "colab": {
          "base_uri": "https://localhost:8080/"
        },
        "id": "uPvzcWpB1xNf",
        "outputId": "53ab7adb-2295-424b-f797-cd6878d4cae8"
      },
      "execution_count": 2,
      "outputs": [
        {
          "output_type": "stream",
          "name": "stdout",
          "text": [
            "Collecting pycryptodome\n",
            "  Downloading pycryptodome-3.18.0-cp35-abi3-manylinux_2_17_x86_64.manylinux2014_x86_64.whl (2.1 MB)\n",
            "\u001b[2K     \u001b[90m━━━━━━━━━━━━━━━━━━━━━━━━━━━━━━━━━━━━━━━━\u001b[0m \u001b[32m2.1/2.1 MB\u001b[0m \u001b[31m7.3 MB/s\u001b[0m eta \u001b[36m0:00:00\u001b[0m\n",
            "\u001b[?25hInstalling collected packages: pycryptodome\n",
            "Successfully installed pycryptodome-3.18.0\n"
          ]
        }
      ]
    },
    {
      "cell_type": "code",
      "execution_count": 3,
      "metadata": {
        "id": "Tk3EMD5o1hGw"
      },
      "outputs": [],
      "source": [
        "from Crypto.Cipher import DES\n",
        "from secrets import token_bytes"
      ]
    },
    {
      "cell_type": "code",
      "source": [
        "key = token_bytes(8)"
      ],
      "metadata": {
        "id": "QNfGHM9c6P0x"
      },
      "execution_count": 4,
      "outputs": []
    },
    {
      "cell_type": "code",
      "source": [
        "def encrypt(msg):\n",
        "    cipher = DES.new(key, DES.MODE_EAX)\n",
        "    nonce = cipher.nonce\n",
        "    ciphertext, tag = cipher.encrypt_and_digest(msg.encode('ascii'))\n",
        "    return nonce, ciphertext, tag"
      ],
      "metadata": {
        "id": "kEGyg9Cr1oFQ"
      },
      "execution_count": 5,
      "outputs": []
    },
    {
      "cell_type": "code",
      "source": [
        "def decrypt(nonce, ciphertext, tag):\n",
        "    cipher = DES.new(key, DES.MODE_EAX, nonce=nonce)\n",
        "    plaintext = cipher.decrypt(ciphertext)\n",
        "\n",
        "    try:\n",
        "        cipher.verify(tag)\n",
        "        return plaintext.decode('ascii')\n",
        "    except:\n",
        "        return False"
      ],
      "metadata": {
        "id": "NPHP3oty17EN"
      },
      "execution_count": 6,
      "outputs": []
    },
    {
      "cell_type": "code",
      "source": [
        "nonce, ciphertext, tag = encrypt(input('Enter a message: '))\n",
        "plaintext = decrypt(nonce, ciphertext, tag)"
      ],
      "metadata": {
        "id": "RcevvlYI26fM",
        "colab": {
          "base_uri": "https://localhost:8080/"
        },
        "outputId": "7214b40f-7fc0-4fc0-efcd-0daaab833725"
      },
      "execution_count": 7,
      "outputs": [
        {
          "name": "stdout",
          "output_type": "stream",
          "text": [
            "Enter a message: Hey This password is Absurd\n"
          ]
        }
      ]
    },
    {
      "cell_type": "code",
      "source": [
        "print(f'Cipher text: {ciphertext}')"
      ],
      "metadata": {
        "colab": {
          "base_uri": "https://localhost:8080/"
        },
        "id": "qYtJ1OqB6X41",
        "outputId": "498be5c2-3360-4d70-98f9-b000813eab60"
      },
      "execution_count": 8,
      "outputs": [
        {
          "output_type": "stream",
          "name": "stdout",
          "text": [
            "Cipher text: b'\\x13c\\x91,\\xf2\\xb79~\\xf5\\xe2\\xd8\\xf0\\xbd3\\xa8\\xd5\\x13\\\\D;\\xee\\xa5K$\\x0c\\xe0l'\n"
          ]
        }
      ]
    },
    {
      "cell_type": "code",
      "source": [
        "if not plaintext:\n",
        "    print('Message is corrupted!')\n",
        "else:\n",
        "    print(f'Plain text: {plaintext}')"
      ],
      "metadata": {
        "colab": {
          "base_uri": "https://localhost:8080/"
        },
        "id": "iNfS8JwH7CnN",
        "outputId": "7ff8383b-d42d-41ce-8f49-cd2b9276a40f"
      },
      "execution_count": 9,
      "outputs": [
        {
          "output_type": "stream",
          "name": "stdout",
          "text": [
            "Plain text: Hey This password is Absurd\n"
          ]
        }
      ]
    },
    {
      "cell_type": "code",
      "source": [],
      "metadata": {
        "id": "0EBEeaSl7ErY"
      },
      "execution_count": 9,
      "outputs": []
    }
  ]
}