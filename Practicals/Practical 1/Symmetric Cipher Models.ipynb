{
 "cells": [
  {
   "cell_type": "markdown",
   "id": "928d400e",
   "metadata": {},
   "source": [
    "## Substitution Cipher"
   ]
  },
  {
   "cell_type": "code",
   "execution_count": 1,
   "id": "acd3a2c2",
   "metadata": {},
   "outputs": [],
   "source": [
    "alphabet = \"abcdefghijklmnopqrstuvwxyz\"\n",
    "key = \"trayojdlwhbxsinufcpevqkzgm\""
   ]
  },
  {
   "cell_type": "code",
   "execution_count": 2,
   "id": "36439864",
   "metadata": {},
   "outputs": [],
   "source": [
    "def encrypt(text):\n",
    "    result=\"\"\n",
    "    for letter in text:\n",
    "        if letter.lower() in alphabet:\n",
    "            result += key[alphabet.find(letter.lower())]\n",
    "        else:\n",
    "            result += letter\n",
    "    return result"
   ]
  },
  {
   "cell_type": "code",
   "execution_count": 3,
   "id": "0d043fff",
   "metadata": {},
   "outputs": [],
   "source": [
    "def decrypt(text):\n",
    "    result=\"\"\n",
    "    for letter in text:\n",
    "        if letter.lower() in key:\n",
    "            result += alphabet[key.find(letter.lower())]\n",
    "        else:\n",
    "            result += letter\n",
    "    return result"
   ]
  },
  {
   "cell_type": "code",
   "execution_count": 4,
   "id": "90527481",
   "metadata": {},
   "outputs": [],
   "source": [
    "input1=\"Hey This is encryption\""
   ]
  },
  {
   "cell_type": "code",
   "execution_count": 5,
   "id": "d87f4f13",
   "metadata": {},
   "outputs": [],
   "source": [
    "etext=encrypt(input1)"
   ]
  },
  {
   "cell_type": "code",
   "execution_count": 6,
   "id": "02c0c72c",
   "metadata": {},
   "outputs": [
    {
     "name": "stdout",
     "output_type": "stream",
     "text": [
      "log elwp wp oiacguewni\n"
     ]
    }
   ],
   "source": [
    "print(etext)"
   ]
  },
  {
   "cell_type": "code",
   "execution_count": 7,
   "id": "d8923c13",
   "metadata": {},
   "outputs": [],
   "source": [
    "detext=decrypt(etext)"
   ]
  },
  {
   "cell_type": "code",
   "execution_count": 8,
   "id": "9cf87a79",
   "metadata": {},
   "outputs": [
    {
     "name": "stdout",
     "output_type": "stream",
     "text": [
      "hey this is encryption\n"
     ]
    }
   ],
   "source": [
    "print(detext)"
   ]
  },
  {
   "cell_type": "code",
   "execution_count": null,
   "id": "343cb5a7",
   "metadata": {},
   "outputs": [],
   "source": []
  }
 ],
 "metadata": {
  "kernelspec": {
   "display_name": "Python 3 (ipykernel)",
   "language": "python",
   "name": "python3"
  },
  "language_info": {
   "codemirror_mode": {
    "name": "ipython",
    "version": 3
   },
   "file_extension": ".py",
   "mimetype": "text/x-python",
   "name": "python",
   "nbconvert_exporter": "python",
   "pygments_lexer": "ipython3",
   "version": "3.10.9"
  }
 },
 "nbformat": 4,
 "nbformat_minor": 5
}
