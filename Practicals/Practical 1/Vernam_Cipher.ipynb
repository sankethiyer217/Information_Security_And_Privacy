{
  "nbformat": 4,
  "nbformat_minor": 0,
  "metadata": {
    "colab": {
      "provenance": []
    },
    "kernelspec": {
      "name": "python3",
      "display_name": "Python 3"
    },
    "language_info": {
      "name": "python"
    }
  },
  "cells": [
    {
      "cell_type": "code",
      "execution_count": 1,
      "metadata": {
        "id": "vhQGW4ZcH1_f"
      },
      "outputs": [],
      "source": [
        "def Make_Vernam( text, key ):\n",
        "    \"\"\" Returns the Vernam Cipher \"\"\"\n",
        "    answer = \"\" # the Cypher text\n",
        "    p = 0 # pointer for the key\n",
        "    for char in text:\n",
        "        answer += chr(ord(char) ^ ord(key[p])) # XOR Operation\n",
        "        p += 1\n",
        "        if p==len(key):\n",
        "            p = 0\n",
        "    return answer\n"
      ]
    },
    {
      "cell_type": "code",
      "source": [
        "KEY = \"ihsavdliSAVDOsajvc;jacsb;jbajkCDSBA\""
      ],
      "metadata": {
        "id": "xTnFIsClIE0i"
      },
      "execution_count": 2,
      "outputs": []
    },
    {
      "cell_type": "code",
      "source": [
        "print(\"Vernam Cipher\")\n",
        "PlainText = input(\"Enter text to encrypt: \")\n",
        "# Encrypt\n",
        "Cypher =Make_Vernam(PlainText, KEY)\n",
        "print(\"Cypher text: \"+Cypher)\n",
        "# Decrypt\n",
        "decrypt = Make_Vernam(Cypher, KEY)\n",
        "print(\"Decrypt: \"+decrypt)"
      ],
      "metadata": {
        "colab": {
          "base_uri": "https://localhost:8080/"
        },
        "id": "qI1xSK1AIO5O",
        "outputId": "e85234db-7232-41d3-f0e8-cee993fff7d2"
      },
      "execution_count": 3,
      "outputs": [
        {
          "output_type": "stream",
          "name": "stdout",
          "text": [
            "Vernam Cipher\n",
            "Enter text to encrypt: Whats This?\n",
            "Cypher text: >\u0000\u0012\u0015\u0005D8\u0001:2i\n",
            "Decrypt: Whats This?\n"
          ]
        }
      ]
    },
    {
      "cell_type": "code",
      "source": [],
      "metadata": {
        "id": "XzIkTih6IaIG"
      },
      "execution_count": 3,
      "outputs": []
    }
  ]
}